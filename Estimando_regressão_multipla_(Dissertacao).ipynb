{
  "nbformat": 4,
  "nbformat_minor": 0,
  "metadata": {
    "colab": {
      "name": "Estimando regressão multipla (Dissertacao).ipynb",
      "provenance": [],
      "collapsed_sections": [],
      "include_colab_link": true
    },
    "kernelspec": {
      "name": "ir",
      "display_name": "R"
    },
    "language_info": {
      "name": "R"
    }
  },
  "cells": [
    {
      "cell_type": "markdown",
      "metadata": {
        "id": "view-in-github",
        "colab_type": "text"
      },
      "source": [
        "<a href=\"https://colab.research.google.com/github/LucasMirandaVS/Exercicios_R/blob/main/Estimando_regress%C3%A3o_multipla_(Dissertacao).ipynb\" target=\"_parent\"><img src=\"https://colab.research.google.com/assets/colab-badge.svg\" alt=\"Open In Colab\"/></a>"
      ]
    },
    {
      "cell_type": "markdown",
      "source": [
        "# Instalando os pacotes, renomeando as colunas e definindo as novas variáveis de interesse\n"
      ],
      "metadata": {
        "id": "EYSPcWQ0b6J9"
      }
    },
    {
      "cell_type": "code",
      "execution_count": null,
      "metadata": {
        "colab": {
          "base_uri": "https://localhost:8080/"
        },
        "id": "WnalQujmbup2",
        "outputId": "d27cf313-2c05-432b-d1c2-01bf455ef92d"
      },
      "outputs": [
        {
          "output_type": "stream",
          "name": "stderr",
          "text": [
            "Installing packages into ‘/usr/local/lib/R/site-library’\n",
            "(as ‘lib’ is unspecified)\n",
            "\n",
            "also installing the dependencies ‘Rcpp’, ‘collapse’\n",
            "\n",
            "\n",
            "\n",
            "Attaching package: ‘dplyr’\n",
            "\n",
            "\n",
            "The following objects are masked from ‘package:plm’:\n",
            "\n",
            "    between, lag, lead\n",
            "\n",
            "\n",
            "The following objects are masked from ‘package:stats’:\n",
            "\n",
            "    filter, lag\n",
            "\n",
            "\n",
            "The following objects are masked from ‘package:base’:\n",
            "\n",
            "    intersect, setdiff, setequal, union\n",
            "\n",
            "\n"
          ]
        }
      ],
      "source": [
        "install.packages(c('plm', 'dplyr'))\n",
        "library(plm)\n",
        "library(dplyr)\n"
      ]
    },
    {
      "cell_type": "code",
      "source": [
        "P.ANUAL <- read.csv('P.ANUAL3.csv', header = TRUE)"
      ],
      "metadata": {
        "id": "nWw7qrlakwX2"
      },
      "execution_count": null,
      "outputs": []
    },
    {
      "cell_type": "code",
      "source": [
        "# Aplicando uma coluna dummy para cada estado produtor\n",
        "# SP\n",
        "P.ANUAL$dsp <- 0\n",
        "P.ANUAL$dsp[P.ANUAL$UF == 'SP'] <- 1\n",
        "# PR\n",
        "P.ANUAL$dpr <- 0\n",
        "P.ANUAL$dpr[P.ANUAL$UF == 'PR'] <- 1\n",
        "# MT\n",
        "P.ANUAL$dmt <- 0\n",
        "P.ANUAL$dmt[P.ANUAL$UF == 'MT'] <- 1\n",
        "# MG\n",
        "P.ANUAL$dmg <- 0\n",
        "P.ANUAL$dmg[P.ANUAL$UF == 'MG'] <- 1\n",
        "# GO\n",
        "P.ANUAL$dgo <- 0\n",
        "P.ANUAL$dgo[P.ANUAL$UF == 'GO'] <- 1\n",
        "# PE\n",
        "P.ANUAL$dpe <- 0\n",
        "P.ANUAL$dpe[P.ANUAL$UF == 'PE'] <- 1\n",
        "# MS\n",
        "P.ANUAL$dms <- 0\n",
        "P.ANUAL$dms[P.ANUAL$UF == 'MS'] <- 1"
      ],
      "metadata": {
        "id": "k3EAzJYjg_Ky"
      },
      "execution_count": null,
      "outputs": []
    },
    {
      "cell_type": "code",
      "source": [
        "# O Jupyter Notebook teve um problema lendo a coluna Y, resolvi isso colocando uma coluna chamada Renda\n",
        "P.ANUAL$Renda <- P.ANUAL$Y\n",
        "P.ANUAL$Renda<-gsub(\",\",'', P.ANUAL$Y)\n",
        "P.ANUAL$Renda <- as.numeric(P.ANUAL$Renda)*1000"
      ],
      "metadata": {
        "id": "TNosoxzmv7e3"
      },
      "execution_count": null,
      "outputs": []
    },
    {
      "cell_type": "code",
      "source": [
        "head(P.ANUAL)"
      ],
      "metadata": {
        "id": "ndgqXHJYngwy",
        "colab": {
          "base_uri": "https://localhost:8080/",
          "height": 306
        },
        "outputId": "7cb1ec24-d8d4-41e8-8b1a-e31599c57c11"
      },
      "execution_count": null,
      "outputs": [
        {
          "output_type": "display_data",
          "data": {
            "text/html": [
              "<table class=\"dataframe\">\n",
              "<caption>A data.frame: 6 × 18</caption>\n",
              "<thead>\n",
              "\t<tr><th></th><th scope=col>ANO</th><th scope=col>UF</th><th scope=col>Y</th><th scope=col>PEC</th><th scope=col>PGC</th><th scope=col>QE</th><th scope=col>OE</th><th scope=col>TxF</th><th scope=col>D1</th><th scope=col>D2</th><th scope=col>dsp</th><th scope=col>dpr</th><th scope=col>dmt</th><th scope=col>dmg</th><th scope=col>dgo</th><th scope=col>dpe</th><th scope=col>dms</th><th scope=col>Renda</th></tr>\n",
              "\t<tr><th></th><th scope=col>&lt;int&gt;</th><th scope=col>&lt;chr&gt;</th><th scope=col>&lt;chr&gt;</th><th scope=col>&lt;dbl&gt;</th><th scope=col>&lt;dbl&gt;</th><th scope=col>&lt;int&gt;</th><th scope=col>&lt;int&gt;</th><th scope=col>&lt;int&gt;</th><th scope=col>&lt;int&gt;</th><th scope=col>&lt;int&gt;</th><th scope=col>&lt;dbl&gt;</th><th scope=col>&lt;dbl&gt;</th><th scope=col>&lt;dbl&gt;</th><th scope=col>&lt;dbl&gt;</th><th scope=col>&lt;dbl&gt;</th><th scope=col>&lt;dbl&gt;</th><th scope=col>&lt;dbl&gt;</th><th scope=col>&lt;dbl&gt;</th></tr>\n",
              "</thead>\n",
              "<tbody>\n",
              "\t<tr><th scope=row>1</th><td>2010</td><td>RO</td><td>15.320,65</td><td>3.677246</td><td>4.927840</td><td>40081</td><td>11</td><td>314202</td><td>0</td><td>0</td><td>0</td><td>0</td><td>0</td><td>0</td><td>0</td><td>0</td><td>0</td><td>15320.65</td></tr>\n",
              "\t<tr><th scope=row>2</th><td>2011</td><td>RO</td><td>17.491,60</td><td>3.890250</td><td>4.852057</td><td>26509</td><td>12</td><td>343767</td><td>0</td><td>0</td><td>0</td><td>0</td><td>0</td><td>0</td><td>0</td><td>0</td><td>0</td><td>17491.60</td></tr>\n",
              "\t<tr><th scope=row>3</th><td>2012</td><td>RO</td><td>18.938,69</td><td>3.737398</td><td>4.569771</td><td>19697</td><td> 9</td><td>379158</td><td>0</td><td>0</td><td>0</td><td>0</td><td>0</td><td>0</td><td>0</td><td>0</td><td>0</td><td>18938.69</td></tr>\n",
              "\t<tr><th scope=row>4</th><td>2013</td><td>RO</td><td>18.007,85</td><td>3.575442</td><td>4.457173</td><td>20748</td><td>11</td><td>392986</td><td>0</td><td>0</td><td>0</td><td>0</td><td>0</td><td>0</td><td>0</td><td>0</td><td>0</td><td>18007.85</td></tr>\n",
              "\t<tr><th scope=row>5</th><td>2014</td><td>RO</td><td>19.462,61</td><td>3.645446</td><td>4.434449</td><td>18135</td><td>13</td><td>419642</td><td>0</td><td>0</td><td>0</td><td>0</td><td>0</td><td>0</td><td>0</td><td>0</td><td>0</td><td>19462.61</td></tr>\n",
              "\t<tr><th scope=row>6</th><td>2015</td><td>RO</td><td>20.678,00</td><td>3.580833</td><td>4.652537</td><td>29195</td><td>13</td><td>437291</td><td>0</td><td>0</td><td>0</td><td>0</td><td>0</td><td>0</td><td>0</td><td>0</td><td>0</td><td>20678.00</td></tr>\n",
              "</tbody>\n",
              "</table>\n"
            ],
            "text/markdown": "\nA data.frame: 6 × 18\n\n| <!--/--> | ANO &lt;int&gt; | UF &lt;chr&gt; | Y &lt;chr&gt; | PEC &lt;dbl&gt; | PGC &lt;dbl&gt; | QE &lt;int&gt; | OE &lt;int&gt; | TxF &lt;int&gt; | D1 &lt;int&gt; | D2 &lt;int&gt; | dsp &lt;dbl&gt; | dpr &lt;dbl&gt; | dmt &lt;dbl&gt; | dmg &lt;dbl&gt; | dgo &lt;dbl&gt; | dpe &lt;dbl&gt; | dms &lt;dbl&gt; | Renda &lt;dbl&gt; |\n|---|---|---|---|---|---|---|---|---|---|---|---|---|---|---|---|---|---|---|\n| 1 | 2010 | RO | 15.320,65 | 3.677246 | 4.927840 | 40081 | 11 | 314202 | 0 | 0 | 0 | 0 | 0 | 0 | 0 | 0 | 0 | 15320.65 |\n| 2 | 2011 | RO | 17.491,60 | 3.890250 | 4.852057 | 26509 | 12 | 343767 | 0 | 0 | 0 | 0 | 0 | 0 | 0 | 0 | 0 | 17491.60 |\n| 3 | 2012 | RO | 18.938,69 | 3.737398 | 4.569771 | 19697 |  9 | 379158 | 0 | 0 | 0 | 0 | 0 | 0 | 0 | 0 | 0 | 18938.69 |\n| 4 | 2013 | RO | 18.007,85 | 3.575442 | 4.457173 | 20748 | 11 | 392986 | 0 | 0 | 0 | 0 | 0 | 0 | 0 | 0 | 0 | 18007.85 |\n| 5 | 2014 | RO | 19.462,61 | 3.645446 | 4.434449 | 18135 | 13 | 419642 | 0 | 0 | 0 | 0 | 0 | 0 | 0 | 0 | 0 | 19462.61 |\n| 6 | 2015 | RO | 20.678,00 | 3.580833 | 4.652537 | 29195 | 13 | 437291 | 0 | 0 | 0 | 0 | 0 | 0 | 0 | 0 | 0 | 20678.00 |\n\n",
            "text/latex": "A data.frame: 6 × 18\n\\begin{tabular}{r|llllllllllllllllll}\n  & ANO & UF & Y & PEC & PGC & QE & OE & TxF & D1 & D2 & dsp & dpr & dmt & dmg & dgo & dpe & dms & Renda\\\\\n  & <int> & <chr> & <chr> & <dbl> & <dbl> & <int> & <int> & <int> & <int> & <int> & <dbl> & <dbl> & <dbl> & <dbl> & <dbl> & <dbl> & <dbl> & <dbl>\\\\\n\\hline\n\t1 & 2010 & RO & 15.320,65 & 3.677246 & 4.927840 & 40081 & 11 & 314202 & 0 & 0 & 0 & 0 & 0 & 0 & 0 & 0 & 0 & 15320.65\\\\\n\t2 & 2011 & RO & 17.491,60 & 3.890250 & 4.852057 & 26509 & 12 & 343767 & 0 & 0 & 0 & 0 & 0 & 0 & 0 & 0 & 0 & 17491.60\\\\\n\t3 & 2012 & RO & 18.938,69 & 3.737398 & 4.569771 & 19697 &  9 & 379158 & 0 & 0 & 0 & 0 & 0 & 0 & 0 & 0 & 0 & 18938.69\\\\\n\t4 & 2013 & RO & 18.007,85 & 3.575442 & 4.457173 & 20748 & 11 & 392986 & 0 & 0 & 0 & 0 & 0 & 0 & 0 & 0 & 0 & 18007.85\\\\\n\t5 & 2014 & RO & 19.462,61 & 3.645446 & 4.434449 & 18135 & 13 & 419642 & 0 & 0 & 0 & 0 & 0 & 0 & 0 & 0 & 0 & 19462.61\\\\\n\t6 & 2015 & RO & 20.678,00 & 3.580833 & 4.652537 & 29195 & 13 & 437291 & 0 & 0 & 0 & 0 & 0 & 0 & 0 & 0 & 0 & 20678.00\\\\\n\\end{tabular}\n",
            "text/plain": [
              "  ANO  UF Y         PEC      PGC      QE    OE TxF    D1 D2 dsp dpr dmt dmg dgo\n",
              "1 2010 RO 15.320,65 3.677246 4.927840 40081 11 314202 0  0  0   0   0   0   0  \n",
              "2 2011 RO 17.491,60 3.890250 4.852057 26509 12 343767 0  0  0   0   0   0   0  \n",
              "3 2012 RO 18.938,69 3.737398 4.569771 19697  9 379158 0  0  0   0   0   0   0  \n",
              "4 2013 RO 18.007,85 3.575442 4.457173 20748 11 392986 0  0  0   0   0   0   0  \n",
              "5 2014 RO 19.462,61 3.645446 4.434449 18135 13 419642 0  0  0   0   0   0   0  \n",
              "6 2015 RO 20.678,00 3.580833 4.652537 29195 13 437291 0  0  0   0   0   0   0  \n",
              "  dpe dms Renda   \n",
              "1 0   0   15320.65\n",
              "2 0   0   17491.60\n",
              "3 0   0   18938.69\n",
              "4 0   0   18007.85\n",
              "5 0   0   19462.61\n",
              "6 0   0   20678.00"
            ]
          },
          "metadata": {}
        }
      ]
    },
    {
      "cell_type": "code",
      "source": [
        "# Definindo o painel\n",
        "data_panel <-pdata.frame(P.ANUAL, index=c('UF',\"ANO\")) %>%\n",
        "  arrange(UF)\n",
        "head(data_panel)"
      ],
      "metadata": {
        "id": "mAMqXF-iqb4U",
        "colab": {
          "base_uri": "https://localhost:8080/",
          "height": 410
        },
        "outputId": "7a2748fa-1093-4572-c66b-4094831482c1"
      },
      "execution_count": null,
      "outputs": [
        {
          "output_type": "display_data",
          "data": {
            "text/html": [
              "<table class=\"dataframe\">\n",
              "<caption>A pdata.frame: 6 × 18</caption>\n",
              "<thead>\n",
              "\t<tr><th></th><th scope=col>ANO</th><th scope=col>UF</th><th scope=col>Y</th><th scope=col>PEC</th><th scope=col>PGC</th><th scope=col>QE</th><th scope=col>OE</th><th scope=col>TxF</th><th scope=col>D1</th><th scope=col>D2</th><th scope=col>dsp</th><th scope=col>dpr</th><th scope=col>dmt</th><th scope=col>dmg</th><th scope=col>dgo</th><th scope=col>dpe</th><th scope=col>dms</th><th scope=col>Renda</th></tr>\n",
              "\t<tr><th></th><th scope=col>&lt;fct&gt;</th><th scope=col>&lt;fct&gt;</th><th scope=col>&lt;chr&gt;</th><th scope=col>&lt;dbl&gt;</th><th scope=col>&lt;dbl&gt;</th><th scope=col>&lt;int&gt;</th><th scope=col>&lt;int&gt;</th><th scope=col>&lt;int&gt;</th><th scope=col>&lt;int&gt;</th><th scope=col>&lt;int&gt;</th><th scope=col>&lt;dbl&gt;</th><th scope=col>&lt;dbl&gt;</th><th scope=col>&lt;dbl&gt;</th><th scope=col>&lt;dbl&gt;</th><th scope=col>&lt;dbl&gt;</th><th scope=col>&lt;dbl&gt;</th><th scope=col>&lt;dbl&gt;</th><th scope=col>&lt;dbl&gt;</th></tr>\n",
              "</thead>\n",
              "<tbody>\n",
              "\t<tr><th scope=row>AC-2010</th><td>2010</td><td>AC</td><td>11.384,33</td><td>4.285912</td><td>5.313773</td><td>9495</td><td>1</td><td>101630</td><td>0</td><td>0</td><td>0</td><td>0</td><td>0</td><td>0</td><td>0</td><td>0</td><td>0</td><td>11384.33</td></tr>\n",
              "\t<tr><th scope=row>AC-2011</th><td>2011</td><td>AC</td><td>11.990,36</td><td>4.073929</td><td>5.103035</td><td>8585</td><td>3</td><td>112958</td><td>0</td><td>0</td><td>0</td><td>0</td><td>0</td><td>0</td><td>0</td><td>0</td><td>0</td><td>11990.36</td></tr>\n",
              "\t<tr><th scope=row>AC-2012</th><td>2012</td><td>AC</td><td>13.360,72</td><td>3.906137</td><td>4.836715</td><td>5745</td><td>4</td><td>122914</td><td>0</td><td>0</td><td>0</td><td>0</td><td>0</td><td>0</td><td>0</td><td>0</td><td>0</td><td>13360.72</td></tr>\n",
              "\t<tr><th scope=row>AC-2013</th><td>2013</td><td>AC</td><td>14.777,18</td><td>3.844291</td><td>4.745050</td><td>6025</td><td>5</td><td>129547</td><td>0</td><td>0</td><td>0</td><td>0</td><td>0</td><td>0</td><td>0</td><td>0</td><td>0</td><td>14777.18</td></tr>\n",
              "\t<tr><th scope=row>AC-2014</th><td>2014</td><td>AC</td><td>17.034,15</td><td>3.946889</td><td>4.714712</td><td>3699</td><td>0</td><td>140741</td><td>0</td><td>0</td><td>0</td><td>0</td><td>0</td><td>0</td><td>0</td><td>0</td><td>0</td><td>17034.15</td></tr>\n",
              "\t<tr><th scope=row>AC-2015</th><td>2015</td><td>AC</td><td>16.954,00</td><td>3.961064</td><td>4.971876</td><td>7385</td><td>5</td><td>145428</td><td>0</td><td>0</td><td>0</td><td>0</td><td>0</td><td>0</td><td>0</td><td>0</td><td>0</td><td>16954.00</td></tr>\n",
              "</tbody>\n",
              "</table>\n"
            ],
            "text/markdown": "\nA pdata.frame: 6 × 18\n\n| <!--/--> | ANO &lt;fct&gt; | UF &lt;fct&gt; | Y &lt;chr&gt; | PEC &lt;dbl&gt; | PGC &lt;dbl&gt; | QE &lt;int&gt; | OE &lt;int&gt; | TxF &lt;int&gt; | D1 &lt;int&gt; | D2 &lt;int&gt; | dsp &lt;dbl&gt; | dpr &lt;dbl&gt; | dmt &lt;dbl&gt; | dmg &lt;dbl&gt; | dgo &lt;dbl&gt; | dpe &lt;dbl&gt; | dms &lt;dbl&gt; | Renda &lt;dbl&gt; |\n|---|---|---|---|---|---|---|---|---|---|---|---|---|---|---|---|---|---|---|\n| AC-2010 | 2010 | AC | 11.384,33 | 4.285912 | 5.313773 | 9495 | 1 | 101630 | 0 | 0 | 0 | 0 | 0 | 0 | 0 | 0 | 0 | 11384.33 |\n| AC-2011 | 2011 | AC | 11.990,36 | 4.073929 | 5.103035 | 8585 | 3 | 112958 | 0 | 0 | 0 | 0 | 0 | 0 | 0 | 0 | 0 | 11990.36 |\n| AC-2012 | 2012 | AC | 13.360,72 | 3.906137 | 4.836715 | 5745 | 4 | 122914 | 0 | 0 | 0 | 0 | 0 | 0 | 0 | 0 | 0 | 13360.72 |\n| AC-2013 | 2013 | AC | 14.777,18 | 3.844291 | 4.745050 | 6025 | 5 | 129547 | 0 | 0 | 0 | 0 | 0 | 0 | 0 | 0 | 0 | 14777.18 |\n| AC-2014 | 2014 | AC | 17.034,15 | 3.946889 | 4.714712 | 3699 | 0 | 140741 | 0 | 0 | 0 | 0 | 0 | 0 | 0 | 0 | 0 | 17034.15 |\n| AC-2015 | 2015 | AC | 16.954,00 | 3.961064 | 4.971876 | 7385 | 5 | 145428 | 0 | 0 | 0 | 0 | 0 | 0 | 0 | 0 | 0 | 16954.00 |\n\n",
            "text/latex": "A pdata.frame: 6 × 18\n\\begin{tabular}{r|llllllllllllllllll}\n  & ANO & UF & Y & PEC & PGC & QE & OE & TxF & D1 & D2 & dsp & dpr & dmt & dmg & dgo & dpe & dms & Renda\\\\\n  & <fct> & <fct> & <chr> & <dbl> & <dbl> & <int> & <int> & <int> & <int> & <int> & <dbl> & <dbl> & <dbl> & <dbl> & <dbl> & <dbl> & <dbl> & <dbl>\\\\\n\\hline\n\tAC-2010 & 2010 & AC & 11.384,33 & 4.285912 & 5.313773 & 9495 & 1 & 101630 & 0 & 0 & 0 & 0 & 0 & 0 & 0 & 0 & 0 & 11384.33\\\\\n\tAC-2011 & 2011 & AC & 11.990,36 & 4.073929 & 5.103035 & 8585 & 3 & 112958 & 0 & 0 & 0 & 0 & 0 & 0 & 0 & 0 & 0 & 11990.36\\\\\n\tAC-2012 & 2012 & AC & 13.360,72 & 3.906137 & 4.836715 & 5745 & 4 & 122914 & 0 & 0 & 0 & 0 & 0 & 0 & 0 & 0 & 0 & 13360.72\\\\\n\tAC-2013 & 2013 & AC & 14.777,18 & 3.844291 & 4.745050 & 6025 & 5 & 129547 & 0 & 0 & 0 & 0 & 0 & 0 & 0 & 0 & 0 & 14777.18\\\\\n\tAC-2014 & 2014 & AC & 17.034,15 & 3.946889 & 4.714712 & 3699 & 0 & 140741 & 0 & 0 & 0 & 0 & 0 & 0 & 0 & 0 & 0 & 17034.15\\\\\n\tAC-2015 & 2015 & AC & 16.954,00 & 3.961064 & 4.971876 & 7385 & 5 & 145428 & 0 & 0 & 0 & 0 & 0 & 0 & 0 & 0 & 0 & 16954.00\\\\\n\\end{tabular}\n",
            "text/plain": [
              "        ANO  UF Y         PEC      PGC      QE   OE TxF    D1 D2 dsp dpr dmt\n",
              "AC-2010 2010 AC 11.384,33 4.285912 5.313773 9495 1  101630 0  0  0   0   0  \n",
              "AC-2011 2011 AC 11.990,36 4.073929 5.103035 8585 3  112958 0  0  0   0   0  \n",
              "AC-2012 2012 AC 13.360,72 3.906137 4.836715 5745 4  122914 0  0  0   0   0  \n",
              "AC-2013 2013 AC 14.777,18 3.844291 4.745050 6025 5  129547 0  0  0   0   0  \n",
              "AC-2014 2014 AC 17.034,15 3.946889 4.714712 3699 0  140741 0  0  0   0   0  \n",
              "AC-2015 2015 AC 16.954,00 3.961064 4.971876 7385 5  145428 0  0  0   0   0  \n",
              "        dmg dgo dpe dms Renda   \n",
              "AC-2010 0   0   0   0   11384.33\n",
              "AC-2011 0   0   0   0   11990.36\n",
              "AC-2012 0   0   0   0   13360.72\n",
              "AC-2013 0   0   0   0   14777.18\n",
              "AC-2014 0   0   0   0   17034.15\n",
              "AC-2015 0   0   0   0   16954.00"
            ]
          },
          "metadata": {}
        }
      ]
    },
    {
      "cell_type": "markdown",
      "source": [
        "# Estimando os modelos"
      ],
      "metadata": {
        "id": "vU-bm-teqty_"
      }
    },
    {
      "cell_type": "code",
      "source": [
        "#Legenda: \n",
        "# Y = PIB per Capta\n",
        "# PEC = Preço do etanol\n",
        "# PGC = Preço da gasolina\n",
        "# QE = Consumo de etanol \n",
        "# TxF = Frota\n",
        "\n",
        "# Estimador de efeito fixo\n",
        "modelo <- plm(log(QE)~log(PEC)+log(PGC)+log(TxF)+log(Renda)+(ANO)+\n",
        "                            log(PEC)*D1+log(PGC)*D1+\n",
        "                            log(PEC)*dsp+ log(PGC)*dsp+\n",
        "                            log(PEC)*dpr+ log(PGC)*dpr+\n",
        "                            log(PEC)*dmt+ log(PGC)*dmt+\n",
        "                            log(PEC)*dms+ log(PGC)*dms+\n",
        "                            log(PEC)*dmg+ log(PGC)*dmg+\n",
        "                            log(PEC)*dgo+ log(PGC)*dgo+\n",
        "                            log(PEC)*dpe+log(PGC)*dpe,\n",
        "                          data = data_panel, model = 'within')\n",
        "summary(modelo)"
      ],
      "metadata": {
        "id": "q3P3bUSyqx5i",
        "colab": {
          "base_uri": "https://localhost:8080/",
          "height": 989
        },
        "outputId": "c3ab07b5-cdd2-46f9-f744-56c96fbde21f"
      },
      "execution_count": null,
      "outputs": [
        {
          "output_type": "display_data",
          "data": {
            "text/plain": [
              "Oneway (individual) effect Within Model\n",
              "\n",
              "Call:\n",
              "plm(formula = log(QE) ~ log(PEC) + log(PGC) + log(TxF) + log(Renda) + \n",
              "    (ANO) + log(PEC) * D1 + log(PGC) * D1 + log(PEC) * dsp + \n",
              "    log(PGC) * dsp + log(PEC) * dpr + log(PGC) * dpr + log(PEC) * \n",
              "    dmt + log(PGC) * dmt + log(PEC) * dms + log(PGC) * dms + \n",
              "    log(PEC) * dmg + log(PGC) * dmg + log(PEC) * dgo + log(PGC) * \n",
              "    dgo + log(PEC) * dpe + log(PGC) * dpe, data = data_panel, \n",
              "    model = \"within\")\n",
              "\n",
              "Balanced Panel: n = 25, T = 10, N = 250\n",
              "\n",
              "Residuals:\n",
              "      Min.    1st Qu.     Median    3rd Qu.       Max. \n",
              "-0.4280920 -0.0839399 -0.0040565  0.0805638  0.4192084 \n",
              "\n",
              "Coefficients: (1 dropped because of singularities)\n",
              "                Estimate  Std. Error  t-value  Pr(>|t|)    \n",
              "log(PEC)     -5.05649318  0.49186522 -10.2802 < 2.2e-16 ***\n",
              "log(PGC)      7.27641614  0.69217662  10.5124 < 2.2e-16 ***\n",
              "log(TxF)      1.86660488  0.31007523   6.0198 8.453e-09 ***\n",
              "log(Renda)   -0.12584696  0.23626005  -0.5327 0.5948703    \n",
              "ANO2011      -0.12000424  0.06559724  -1.8294 0.0688576 .  \n",
              "ANO2012      -0.32129013  0.09480695  -3.3889 0.0008483 ***\n",
              "ANO2013      -0.32539650  0.10943760  -2.9734 0.0033153 ** \n",
              "ANO2014      -0.35546652  0.13042730  -2.7254 0.0070038 ** \n",
              "ANO2015      -0.23947446  0.11835881  -2.0233 0.0444011 *  \n",
              "ANO2016      -0.32823171  0.13011143  -2.5227 0.0124407 *  \n",
              "ANO2017      -1.80188403  0.81842325  -2.2017 0.0288569 *  \n",
              "ANO2018      -1.94400521  0.84969444  -2.2879 0.0232113 *  \n",
              "ANO2019      -1.70349911  0.83401070  -2.0425 0.0424371 *  \n",
              "log(PEC):D1  -2.18853983  0.33057637  -6.6204 3.355e-10 ***\n",
              "log(PGC):D1   2.79490928  0.61323041   4.5577 9.089e-06 ***\n",
              "log(PEC):dsp  3.88688838  1.41591167   2.7451 0.0066107 ** \n",
              "log(PGC):dsp -6.08916595  1.51656212  -4.0151 8.457e-05 ***\n",
              "log(PEC):dpr  2.15043979  1.27521835   1.6863 0.0933232 .  \n",
              "log(PGC):dpr -3.38956573  1.61808876  -2.0948 0.0374741 *  \n",
              "log(PEC):dmt  6.27121536  1.26489537   4.9579 1.539e-06 ***\n",
              "log(PGC):dmt -8.47897260  1.29213578  -6.5620 4.629e-10 ***\n",
              "log(PEC):dms  2.38211045  0.97696899   2.4383 0.0156491 *  \n",
              "log(PGC):dms -2.19385812  1.40767135  -1.5585 0.1207276    \n",
              "log(PEC):dmg -1.19525895  1.31634068  -0.9080 0.3649846    \n",
              "log(PGC):dmg -0.59771095  1.07836630  -0.5543 0.5800229    \n",
              "log(PEC):dgo  4.36983627  1.33755056   3.2670 0.0012831 ** \n",
              "log(PGC):dgo -6.32199838  1.41935750  -4.4541 1.414e-05 ***\n",
              "log(PEC):dpe  3.70944127  1.96477893   1.8880 0.0605076 .  \n",
              "log(PGC):dpe  0.00049289  1.28086978   0.0004 0.9996934    \n",
              "---\n",
              "Signif. codes:  0 ‘***’ 0.001 ‘**’ 0.01 ‘*’ 0.05 ‘.’ 0.1 ‘ ’ 1\n",
              "\n",
              "Total Sum of Squares:    31.632\n",
              "Residual Sum of Squares: 5.0715\n",
              "R-Squared:      0.83967\n",
              "Adj. R-Squared: 0.79631\n",
              "F-statistic: 35.3957 on 29 and 196 DF, p-value: < 2.22e-16"
            ]
          },
          "metadata": {}
        }
      ]
    },
    {
      "cell_type": "markdown",
      "source": [
        "\n",
        "Dá pra ver que a maioria dos estimadores é estatisticamente significante, e que os sinais seguem os valores esperados. Além disso, existem diferenças entre os seus valores, indicando que o peso de cada estado tem sim impacto na elasticidade preço."
      ],
      "metadata": {
        "id": "RyPBRcpxIurg"
      }
    },
    {
      "cell_type": "code",
      "source": [
        "# Apenas para comparação, vou colocar aqui os resultados do modelo anterior.\n",
        "# Nesse modelo o D2 e a variável dummy para os estados produtores\n",
        "modelo2 <- plm(log(QE)~log(PEC)+log(PGC)+log(TxF)+log(Renda)+factor(ANO)+\n",
        "                     log(PEC)*D1+ log(PGC)*D1+\n",
        "                     log(PEC)*D2 + log(PGC)*D2,\n",
        "                   data = data_panel, model = 'within')\n",
        "summary(modelo2) "
      ],
      "metadata": {
        "id": "WjZggvcYJC6d",
        "colab": {
          "base_uri": "https://localhost:8080/",
          "height": 711
        },
        "outputId": "b8180128-40c0-43c5-e48c-68334fd999ea"
      },
      "execution_count": null,
      "outputs": [
        {
          "output_type": "display_data",
          "data": {
            "text/plain": [
              "Oneway (individual) effect Within Model\n",
              "\n",
              "Call:\n",
              "plm(formula = log(QE) ~ log(PEC) + log(PGC) + log(TxF) + log(Renda) + \n",
              "    factor(ANO) + log(PEC) * D1 + log(PGC) * D1 + log(PEC) * \n",
              "    D2 + log(PGC) * D2, data = data_panel, model = \"within\")\n",
              "\n",
              "Balanced Panel: n = 25, T = 10, N = 250\n",
              "\n",
              "Residuals:\n",
              "       Min.     1st Qu.      Median     3rd Qu.        Max. \n",
              "-0.49077912 -0.09563785 -0.00038579  0.09311959  0.42750607 \n",
              "\n",
              "Coefficients: (1 dropped because of singularities)\n",
              "                 Estimate Std. Error  t-value  Pr(>|t|)    \n",
              "log(PEC)        -5.683086   0.519399 -10.9417 < 2.2e-16 ***\n",
              "log(PGC)         7.911207   0.706204  11.2024 < 2.2e-16 ***\n",
              "log(TxF)         1.338312   0.321124   4.1676 4.514e-05 ***\n",
              "log(Renda)       0.087250   0.249666   0.3495  0.727092    \n",
              "factor(ANO)2011 -0.041084   0.067853  -0.6055  0.545514    \n",
              "factor(ANO)2012 -0.184994   0.096297  -1.9211  0.056090 .  \n",
              "factor(ANO)2013 -0.160335   0.111204  -1.4418  0.150860    \n",
              "factor(ANO)2014 -0.153395   0.132306  -1.1594  0.247622    \n",
              "factor(ANO)2015 -0.074128   0.122760  -0.6038  0.546602    \n",
              "factor(ANO)2016 -0.111572   0.133213  -0.8375  0.403249    \n",
              "factor(ANO)2017 -1.283176   0.865738  -1.4822  0.139807    \n",
              "factor(ANO)2018 -1.459556   0.897805  -1.6257  0.105529    \n",
              "factor(ANO)2019 -1.203648   0.881953  -1.3648  0.173805    \n",
              "log(PEC):D1     -1.500479   0.319880  -4.6907 4.927e-06 ***\n",
              "log(PGC):D1      1.981248   0.625684   3.1665  0.001774 ** \n",
              "log(PEC):D2      2.803433   0.619403   4.5260 1.011e-05 ***\n",
              "log(PGC):D2     -3.026062   0.656938  -4.6063 7.137e-06 ***\n",
              "---\n",
              "Signif. codes:  0 ‘***’ 0.001 ‘**’ 0.01 ‘*’ 0.05 ‘.’ 0.1 ‘ ’ 1\n",
              "\n",
              "Total Sum of Squares:    31.632\n",
              "Residual Sum of Squares: 6.3138\n",
              "R-Squared:      0.8004\n",
              "Adj. R-Squared: 0.76105\n",
              "F-statistic: 49.0629 on 17 and 208 DF, p-value: < 2.22e-16"
            ]
          },
          "metadata": {}
        }
      ]
    },
    {
      "cell_type": "markdown",
      "source": [
        "Repare que sem as dummies individuais para cada estado o impacto da variável categórica \"ANO\" não consegue ser captado de forma significante pelo modelo."
      ],
      "metadata": {
        "id": "_PAuj-UBIukE"
      }
    }
  ]
}